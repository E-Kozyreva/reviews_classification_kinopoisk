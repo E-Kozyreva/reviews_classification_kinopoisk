{
  "cells": [
    {
      "attachments": {},
      "cell_type": "markdown",
      "metadata": {
        "colab_type": "text",
        "id": "1GGZHahu1q5T"
      },
      "source": [
        "## Импорт датасета и предобработка."
      ]
    },
    {
      "cell_type": "code",
      "execution_count": 66,
      "metadata": {
        "colab": {},
        "colab_type": "code",
        "id": "dN8Dj6c72MpI"
      },
      "outputs": [],
      "source": [
        "import json\n",
        "import numpy as np\n",
        "from tensorflow import keras\n",
        "from keras.preprocessing.text import Tokenizer\n",
        "from tensorflow.keras.preprocessing.sequence import pad_sequences\n",
        "from keras.models import Sequential\n",
        "from keras.layers import Embedding, Flatten, Dense\n",
        "from matplotlib import pyplot as plt"
      ]
    },
    {
      "cell_type": "code",
      "execution_count": 67,
      "metadata": {
        "colab": {},
        "colab_type": "code",
        "id": "ByqTbD3A1HJz"
      },
      "outputs": [],
      "source": [
        "with open(\"reviews_data.json\", \"r\") as read_file:\n",
        "    load_data = json.load(read_file)"
      ]
    },
    {
      "cell_type": "code",
      "execution_count": 68,
      "metadata": {
        "colab": {
          "base_uri": "https://localhost:8080/",
          "height": 34
        },
        "colab_type": "code",
        "id": "-TR6v-ox5mvO",
        "outputId": "e2a565e2-fb3a-453f-9191-94e8092c4904"
      },
      "outputs": [
        {
          "data": {
            "text/plain": [
              "3000"
            ]
          },
          "execution_count": 68,
          "metadata": {},
          "output_type": "execute_result"
        }
      ],
      "source": [
        "reviews = []\n",
        "reviews += load_data['good']\n",
        "reviews += load_data['bad']\n",
        "reviews += load_data['neutral']\n",
        "len(reviews)"
      ]
    },
    {
      "cell_type": "code",
      "execution_count": 69,
      "metadata": {
        "colab": {
          "base_uri": "https://localhost:8080/",
          "height": 34
        },
        "colab_type": "code",
        "id": "trXl9-nk6C6Z",
        "outputId": "664fa1e9-b150-426b-86d0-106ce6e6862a"
      },
      "outputs": [
        {
          "data": {
            "text/plain": [
              "3000"
            ]
          },
          "execution_count": 69,
          "metadata": {},
          "output_type": "execute_result"
        }
      ],
      "source": [
        "labels = [1 for _ in range(1000)] + [-1 for _ in range(1000)] + [0 for _ in range(1000)]\n",
        "len(labels)"
      ]
    },
    {
      "cell_type": "code",
      "execution_count": 70,
      "metadata": {
        "colab": {},
        "colab_type": "code",
        "id": "WL758Y4YEh26"
      },
      "outputs": [],
      "source": [
        "max_len = 500\n",
        "training_samples = 2400\n",
        "max_words = 10000"
      ]
    },
    {
      "cell_type": "code",
      "execution_count": 71,
      "metadata": {
        "colab": {},
        "colab_type": "code",
        "id": "1oVAJi_E9sxf"
      },
      "outputs": [],
      "source": [
        "tokenizer = Tokenizer(num_words=max_words)\n",
        "tokenizer.fit_on_texts(reviews)"
      ]
    },
    {
      "cell_type": "code",
      "execution_count": 72,
      "metadata": {},
      "outputs": [
        {
          "data": {
            "text/plain": [
              "3000"
            ]
          },
          "execution_count": 72,
          "metadata": {},
          "output_type": "execute_result"
        }
      ],
      "source": [
        "sequences = tokenizer.texts_to_sequences(reviews)\n",
        "len(sequences)"
      ]
    },
    {
      "cell_type": "code",
      "execution_count": 73,
      "metadata": {
        "colab": {},
        "colab_type": "code",
        "id": "wUmwLvhidwq8"
      },
      "outputs": [],
      "source": [
        "word_index = tokenizer.word_index"
      ]
    },
    {
      "cell_type": "code",
      "execution_count": 74,
      "metadata": {
        "colab": {
          "base_uri": "https://localhost:8080/",
          "height": 34
        },
        "colab_type": "code",
        "id": "Lj0WGbPmF6OY",
        "outputId": "60c110cd-a0f6-4233-e761-9a1aa8fc2d14"
      },
      "outputs": [
        {
          "data": {
            "text/plain": [
              "3000"
            ]
          },
          "execution_count": 74,
          "metadata": {},
          "output_type": "execute_result"
        }
      ],
      "source": [
        "data = pad_sequences(sequences, maxlen=max_len)\n",
        "len(data)"
      ]
    },
    {
      "cell_type": "code",
      "execution_count": 75,
      "metadata": {
        "colab": {},
        "colab_type": "code",
        "id": "IzgQgCNgGHIP"
      },
      "outputs": [],
      "source": [
        "labels = np.asarray(labels)"
      ]
    },
    {
      "cell_type": "code",
      "execution_count": 76,
      "metadata": {
        "colab": {
          "base_uri": "https://localhost:8080/",
          "height": 34
        },
        "colab_type": "code",
        "id": "ICLLGyOnOfpC",
        "outputId": "942eb8d7-279a-43d6-ee23-28d23f64d926"
      },
      "outputs": [
        {
          "data": {
            "text/plain": [
              "(3000, 3)"
            ]
          },
          "execution_count": 76,
          "metadata": {},
          "output_type": "execute_result"
        }
      ],
      "source": [
        "def to_one_hot(labels, dimension=3):\n",
        "    results = np.zeros((len(labels), dimension))\n",
        "    for i, label in enumerate(labels):\n",
        "        results[i, label] = 1\n",
        "    return results\n",
        "\n",
        "labels = to_one_hot(labels)\n",
        "labels.shape"
      ]
    },
    {
      "cell_type": "code",
      "execution_count": 77,
      "metadata": {
        "colab": {},
        "colab_type": "code",
        "id": "9kQPFTfXGxxk"
      },
      "outputs": [],
      "source": [
        "indices = np.arange(3000)\n",
        "np.random.shuffle(indices)\n",
        "data = data[indices]\n",
        "labels = labels[indices]"
      ]
    },
    {
      "cell_type": "code",
      "execution_count": 78,
      "metadata": {
        "colab": {},
        "colab_type": "code",
        "id": "-XD33CFcHhBs"
      },
      "outputs": [],
      "source": [
        "X_train = data[:training_samples]\n",
        "y_train = labels[:training_samples]\n",
        "X_test = data[training_samples:]\n",
        "y_test = labels[training_samples:]"
      ]
    },
    {
      "attachments": {},
      "cell_type": "markdown",
      "metadata": {
        "colab_type": "text",
        "id": "U1Guz89LM-w-"
      },
      "source": [
        "## Исключение нейтральных отзывов."
      ]
    },
    {
      "cell_type": "code",
      "execution_count": 79,
      "metadata": {
        "colab": {},
        "colab_type": "code",
        "id": "-peeSsI9c-Px"
      },
      "outputs": [],
      "source": [
        "binary_data = reviews[:2000]\n",
        "binary_labels = [0 for _ in range(1000)] + [1 for _ in range(1000)]"
      ]
    },
    {
      "cell_type": "code",
      "execution_count": 80,
      "metadata": {
        "colab": {},
        "colab_type": "code",
        "id": "u4TVl2NgreNE"
      },
      "outputs": [],
      "source": [
        "max_len = 500\n",
        "training_samples = 1500\n",
        "max_words = 10000\n",
        "binary_tokenizer = Tokenizer(num_words=max_words)\n",
        "binary_tokenizer.fit_on_texts(binary_data)\n",
        "binary_sequences = binary_tokenizer.texts_to_sequences(binary_data)\n",
        "binary_word_index = binary_tokenizer.word_index\n",
        "binary_data = pad_sequences(binary_sequences, maxlen=max_len)\n",
        "binary_labels = np.asarray(binary_labels)\n",
        "indices = np.arange(2000)\n",
        "np.random.shuffle(indices)\n",
        "binary_data = binary_data[indices]\n",
        "binary_labels = binary_labels[indices]\n",
        "binary_X_train = binary_data[:training_samples]\n",
        "binary_y_train = binary_labels[:training_samples]\n",
        "binary_X_test = binary_data[training_samples:]\n",
        "binary_y_test = binary_labels[training_samples:]"
      ]
    },
    {
      "cell_type": "code",
      "execution_count": 81,
      "metadata": {
        "colab": {
          "base_uri": "https://localhost:8080/",
          "height": 544
        },
        "colab_type": "code",
        "id": "araDqd3ttA83",
        "outputId": "c4bab804-8dc4-4aba-a682-667c7988414e"
      },
      "outputs": [
        {
          "name": "stdout",
          "output_type": "stream",
          "text": [
            "Epoch 1/15\n",
            "10/10 [==============================] - 3s 193ms/step - loss: 0.6917 - acc: 0.5150 - val_loss: 0.6886 - val_acc: 0.5800\n",
            "Epoch 2/15\n",
            "10/10 [==============================] - 1s 140ms/step - loss: 0.6860 - acc: 0.6875 - val_loss: 0.6810 - val_acc: 0.6733\n",
            "Epoch 3/15\n",
            "10/10 [==============================] - 1s 141ms/step - loss: 0.6717 - acc: 0.7842 - val_loss: 0.6532 - val_acc: 0.7867\n",
            "Epoch 4/15\n",
            "10/10 [==============================] - 1s 144ms/step - loss: 0.6095 - acc: 0.7500 - val_loss: 0.5414 - val_acc: 0.8200\n",
            "Epoch 5/15\n",
            "10/10 [==============================] - 1s 148ms/step - loss: 0.4969 - acc: 0.8058 - val_loss: 0.4294 - val_acc: 0.8733\n",
            "Epoch 6/15\n",
            "10/10 [==============================] - 1s 139ms/step - loss: 0.4287 - acc: 0.8508 - val_loss: 0.4653 - val_acc: 0.7733\n",
            "Epoch 7/15\n",
            "10/10 [==============================] - 1s 141ms/step - loss: 0.3486 - acc: 0.9092 - val_loss: 0.5110 - val_acc: 0.7067\n",
            "Epoch 8/15\n",
            "10/10 [==============================] - 1s 144ms/step - loss: 0.3140 - acc: 0.9300 - val_loss: 0.3203 - val_acc: 0.9267\n",
            "Epoch 9/15\n",
            "10/10 [==============================] - 1s 145ms/step - loss: 0.2509 - acc: 0.9450 - val_loss: 0.2666 - val_acc: 0.9300\n",
            "Epoch 10/15\n",
            "10/10 [==============================] - 1s 144ms/step - loss: 0.2330 - acc: 0.9508 - val_loss: 0.2592 - val_acc: 0.9100\n",
            "Epoch 11/15\n",
            "10/10 [==============================] - 1s 142ms/step - loss: 0.1676 - acc: 0.9708 - val_loss: 0.2362 - val_acc: 0.9133\n",
            "Epoch 12/15\n",
            "10/10 [==============================] - 1s 138ms/step - loss: 0.1246 - acc: 0.9783 - val_loss: 0.2358 - val_acc: 0.9333\n",
            "Epoch 13/15\n",
            "10/10 [==============================] - 1s 137ms/step - loss: 0.1512 - acc: 0.9550 - val_loss: 0.3218 - val_acc: 0.8633\n",
            "Epoch 14/15\n",
            "10/10 [==============================] - 1s 135ms/step - loss: 0.1046 - acc: 0.9892 - val_loss: 0.1774 - val_acc: 0.9467\n",
            "Epoch 15/15\n",
            "10/10 [==============================] - 1s 136ms/step - loss: 0.0700 - acc: 0.9892 - val_loss: 0.1900 - val_acc: 0.9333\n"
          ]
        }
      ],
      "source": [
        "binary_model = Sequential()\n",
        "binary_model.add(Embedding(max_words, 32))\n",
        "binary_model.add(LSTM(32))\n",
        "binary_model.add(Dense(1, activation='sigmoid'))\n",
        "binary_model.compile(optimizer='rmsprop',\n",
        "                     loss='binary_crossentropy',\n",
        "                     metrics=['acc'])\n",
        "binary_model_history = binary_model.fit(binary_X_train, binary_y_train,\n",
        "                                        epochs=15,\n",
        "                                        batch_size=128,\n",
        "                                        validation_split=0.2)"
      ]
    },
    {
      "cell_type": "code",
      "execution_count": 82,
      "metadata": {},
      "outputs": [],
      "source": [
        "def plotting(history):\n",
        "    acc = history.history['acc']\n",
        "    val_acc = history.history['val_acc']\n",
        "    loss = history.history['loss']\n",
        "    val_loss = history.history['val_loss']\n",
        "\n",
        "    epochs = range(1, len(acc) + 1)\n",
        "    plt.plot(epochs, acc, 'b', color='blue', label='Training acc')\n",
        "    plt.plot(epochs, val_acc, 'b', color='orange', label='Validation acc')\n",
        "    plt.title('Training and validation accuracy')\n",
        "    plt.legend()\n",
        "\n",
        "    plt.figure()\n",
        "    plt.plot(epochs, loss, 'b', color='blue', label='Training loss')\n",
        "    plt.plot(epochs, val_loss, 'b', color='orange', label='Validation loss')\n",
        "    plt.title('Training and validation loss')\n",
        "    plt.legend()\n",
        "    plt.show()"
      ]
    },
    {
      "cell_type": "code",
      "execution_count": 83,
      "metadata": {
        "colab": {
          "base_uri": "https://localhost:8080/",
          "height": 551
        },
        "colab_type": "code",
        "id": "eBMf8Nj4ui3B",
        "outputId": "1904b265-413d-4781-b74b-dff1f5d78b3a"
      },
      "outputs": [
        {
          "name": "stderr",
          "output_type": "stream",
          "text": [
            "C:\\Users\\kozyr\\AppData\\Local\\Temp\\ipykernel_8016\\2124928173.py:8: UserWarning: color is redundantly defined by the 'color' keyword argument and the fmt string \"b\" (-> color=(0.0, 0.0, 1.0, 1)). The keyword argument will take precedence.\n",
            "  plt.plot(epochs, acc, 'b', color='blue', label='Training acc')\n",
            "C:\\Users\\kozyr\\AppData\\Local\\Temp\\ipykernel_8016\\2124928173.py:9: UserWarning: color is redundantly defined by the 'color' keyword argument and the fmt string \"b\" (-> color=(0.0, 0.0, 1.0, 1)). The keyword argument will take precedence.\n",
            "  plt.plot(epochs, val_acc, 'b', color='orange', label='Validation acc')\n",
            "C:\\Users\\kozyr\\AppData\\Local\\Temp\\ipykernel_8016\\2124928173.py:14: UserWarning: color is redundantly defined by the 'color' keyword argument and the fmt string \"b\" (-> color=(0.0, 0.0, 1.0, 1)). The keyword argument will take precedence.\n",
            "  plt.plot(epochs, loss, 'b', color='blue', label='Training loss')\n",
            "C:\\Users\\kozyr\\AppData\\Local\\Temp\\ipykernel_8016\\2124928173.py:15: UserWarning: color is redundantly defined by the 'color' keyword argument and the fmt string \"b\" (-> color=(0.0, 0.0, 1.0, 1)). The keyword argument will take precedence.\n",
            "  plt.plot(epochs, val_loss, 'b', color='orange', label='Validation loss')\n"
          ]
        },
        {
          "data": {
            "image/png": "[encoded data removed]",
            "text/plain": [
              "<Figure size 640x480 with 1 Axes>"
            ]
          },
          "metadata": {},
          "output_type": "display_data"
        },
        {
          "data": {
            "image/png": "[encoded data removed]",
            "text/plain": [
              "<Figure size 640x480 with 1 Axes>"
            ]
          },
          "metadata": {},
          "output_type": "display_data"
        }
      ],
      "source": [
        "plotting(binary_model_history)"
      ]
    },
    {
      "cell_type": "code",
      "execution_count": 84,
      "metadata": {
        "colab": {
          "base_uri": "https://localhost:8080/",
          "height": 51
        },
        "colab_type": "code",
        "id": "HiNySy4ounLs",
        "outputId": "75b2c32f-e04e-4473-cdec-7b1d544bba77"
      },
      "outputs": [
        {
          "name": "stdout",
          "output_type": "stream",
          "text": [
            "16/16 [==============================] - 0s 23ms/step - loss: 0.2006 - acc: 0.9280\n"
          ]
        },
        {
          "data": {
            "text/plain": [
              "[0.20059265196323395, 0.9279999732971191]"
            ]
          },
          "execution_count": 84,
          "metadata": {},
          "output_type": "execute_result"
        }
      ],
      "source": [
        "binary_model.evaluate(binary_X_test, binary_y_test)"
      ]
    }
  ],
  "metadata": {
    "colab": {
      "collapsed_sections": [],
      "name": "Neuro_for_reviews.ipynb",
      "provenance": []
    },
    "kernelspec": {
      "display_name": "Python 3",
      "language": "python",
      "name": "python3"
    },
    "language_info": {
      "codemirror_mode": {
        "name": "ipython",
        "version": 3
      },
      "file_extension": ".py",
      "mimetype": "text/x-python",
      "name": "python",
      "nbconvert_exporter": "python",
      "pygments_lexer": "ipython3",
      "version": "3.8.10"
    },
    "vscode": {
      "interpreter": {
        "hash": "808ade87766a86b4ff14ce34fb10e5d0c10f82b234c5173894f6fade04b42f1d"
      }
    }
  },
  "nbformat": 4,
  "nbformat_minor": 0
}
