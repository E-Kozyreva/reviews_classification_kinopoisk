{
  "cells": [
    {
      "attachments": {},
      "cell_type": "markdown",
      "metadata": {
        "colab_type": "text",
        "id": "1GGZHahu1q5T"
      },
      "source": [
        "## Импорт датасета и предобработка."
      ]
    },
    {
      "cell_type": "code",
      "execution_count": 23,
      "metadata": {
        "colab": {},
        "colab_type": "code",
        "id": "dN8Dj6c72MpI"
      },
      "outputs": [],
      "source": [
        "import json\n",
        "import numpy as np\n",
        "from tensorflow import keras\n",
        "from keras.preprocessing.text import Tokenizer\n",
        "from tensorflow.keras.preprocessing.sequence import pad_sequences\n",
        "from keras.models import Sequential\n",
        "from keras.layers import Embedding, Flatten, Dense\n",
        "from matplotlib import pyplot as plt"
      ]
    },
    {
      "cell_type": "code",
      "execution_count": 24,
      "metadata": {
        "colab": {},
        "colab_type": "code",
        "id": "ByqTbD3A1HJz"
      },
      "outputs": [],
      "source": [
        "with open(\"reviews_data.json\", \"r\") as read_file:\n",
        "    load_data = json.load(read_file)"
      ]
    },
    {
      "cell_type": "code",
      "execution_count": 25,
      "metadata": {
        "colab": {
          "base_uri": "https://localhost:8080/",
          "height": 34
        },
        "colab_type": "code",
        "id": "-TR6v-ox5mvO",
        "outputId": "e2a565e2-fb3a-453f-9191-94e8092c4904"
      },
      "outputs": [
        {
          "data": {
            "text/plain": [
              "3000"
            ]
          },
          "execution_count": 25,
          "metadata": {},
          "output_type": "execute_result"
        }
      ],
      "source": [
        "reviews = []\n",
        "reviews += load_data['good']\n",
        "reviews += load_data['bad']\n",
        "reviews += load_data['neutral']\n",
        "len(reviews)"
      ]
    },
    {
      "cell_type": "code",
      "execution_count": 26,
      "metadata": {
        "colab": {
          "base_uri": "https://localhost:8080/",
          "height": 34
        },
        "colab_type": "code",
        "id": "trXl9-nk6C6Z",
        "outputId": "664fa1e9-b150-426b-86d0-106ce6e6862a"
      },
      "outputs": [
        {
          "data": {
            "text/plain": [
              "3000"
            ]
          },
          "execution_count": 26,
          "metadata": {},
          "output_type": "execute_result"
        }
      ],
      "source": [
        "labels = [1 for _ in range(1000)] + [-1 for _ in range(1000)] + [0 for _ in range(1000)]\n",
        "len(labels)"
      ]
    },
    {
      "cell_type": "code",
      "execution_count": 27,
      "metadata": {
        "colab": {},
        "colab_type": "code",
        "id": "WL758Y4YEh26"
      },
      "outputs": [],
      "source": [
        "max_len = 500\n",
        "training_samples = 2400\n",
        "max_words = 10000"
      ]
    },
    {
      "cell_type": "code",
      "execution_count": 28,
      "metadata": {
        "colab": {},
        "colab_type": "code",
        "id": "1oVAJi_E9sxf"
      },
      "outputs": [],
      "source": [
        "tokenizer = Tokenizer(num_words=max_words)\n",
        "tokenizer.fit_on_texts(reviews)"
      ]
    },
    {
      "cell_type": "code",
      "execution_count": 29,
      "metadata": {},
      "outputs": [
        {
          "data": {
            "text/plain": [
              "3000"
            ]
          },
          "execution_count": 29,
          "metadata": {},
          "output_type": "execute_result"
        }
      ],
      "source": [
        "sequences = tokenizer.texts_to_sequences(reviews)\n",
        "len(sequences)"
      ]
    },
    {
      "cell_type": "code",
      "execution_count": 30,
      "metadata": {
        "colab": {},
        "colab_type": "code",
        "id": "wUmwLvhidwq8"
      },
      "outputs": [],
      "source": [
        "word_index = tokenizer.word_index"
      ]
    },
    {
      "cell_type": "code",
      "execution_count": 31,
      "metadata": {
        "colab": {
          "base_uri": "https://localhost:8080/",
          "height": 34
        },
        "colab_type": "code",
        "id": "Lj0WGbPmF6OY",
        "outputId": "60c110cd-a0f6-4233-e761-9a1aa8fc2d14"
      },
      "outputs": [
        {
          "data": {
            "text/plain": [
              "3000"
            ]
          },
          "execution_count": 31,
          "metadata": {},
          "output_type": "execute_result"
        }
      ],
      "source": [
        "data = pad_sequences(sequences, maxlen=max_len)\n",
        "len(data)"
      ]
    },
    {
      "cell_type": "code",
      "execution_count": 32,
      "metadata": {
        "colab": {},
        "colab_type": "code",
        "id": "IzgQgCNgGHIP"
      },
      "outputs": [],
      "source": [
        "labels = np.asarray(labels)"
      ]
    },
    {
      "cell_type": "code",
      "execution_count": 33,
      "metadata": {
        "colab": {
          "base_uri": "https://localhost:8080/",
          "height": 34
        },
        "colab_type": "code",
        "id": "ICLLGyOnOfpC",
        "outputId": "942eb8d7-279a-43d6-ee23-28d23f64d926"
      },
      "outputs": [
        {
          "data": {
            "text/plain": [
              "(3000, 3)"
            ]
          },
          "execution_count": 33,
          "metadata": {},
          "output_type": "execute_result"
        }
      ],
      "source": [
        "def to_one_hot(labels, dimension=3):\n",
        "    results = np.zeros((len(labels), dimension))\n",
        "    for i, label in enumerate(labels):\n",
        "        results[i, label] = 1\n",
        "    return results\n",
        "\n",
        "labels = to_one_hot(labels)\n",
        "labels.shape"
      ]
    },
    {
      "cell_type": "code",
      "execution_count": 34,
      "metadata": {
        "colab": {},
        "colab_type": "code",
        "id": "9kQPFTfXGxxk"
      },
      "outputs": [],
      "source": [
        "indices = np.arange(3000)\n",
        "np.random.shuffle(indices)\n",
        "data = data[indices]\n",
        "labels = labels[indices]"
      ]
    },
    {
      "cell_type": "code",
      "execution_count": 35,
      "metadata": {
        "colab": {},
        "colab_type": "code",
        "id": "-XD33CFcHhBs"
      },
      "outputs": [],
      "source": [
        "X_train = data[:training_samples]\n",
        "y_train = labels[:training_samples]\n",
        "X_test = data[training_samples:]\n",
        "y_test = labels[training_samples:]"
      ]
    },
    {
      "attachments": {},
      "cell_type": "markdown",
      "metadata": {
        "colab_type": "text",
        "id": "FF3DuAVEWb54"
      },
      "source": [
        "## Обучение с предварительно обученными векторными предствалениями слов."
      ]
    },
    {
      "cell_type": "code",
      "execution_count": 36,
      "metadata": {
        "colab": {
          "base_uri": "https://localhost:8080/",
          "height": 88
        },
        "colab_type": "code",
        "id": "u-V6JHKB9GVZ",
        "outputId": "73313dc1-ee17-4038-bbc0-a897ada666ae"
      },
      "outputs": [],
      "source": [
        "import gensim\n",
        "import gensim.downloader as download_api\n",
        "russian_model = download_api.load('word2vec-ruscorpora-300')"
      ]
    },
    {
      "cell_type": "code",
      "execution_count": 37,
      "metadata": {
        "colab": {
          "base_uri": "https://localhost:8080/",
          "height": 34
        },
        "colab_type": "code",
        "id": "TBjqLAwA9cnj",
        "outputId": "15d2ffb1-abdb-40a9-deac-e3085836bfeb"
      },
      "outputs": [
        {
          "data": {
            "text/plain": [
              "184973"
            ]
          },
          "execution_count": 37,
          "metadata": {},
          "output_type": "execute_result"
        }
      ],
      "source": [
        "len(russian_model.index_to_key)"
      ]
    },
    {
      "cell_type": "code",
      "execution_count": 38,
      "metadata": {
        "colab": {
          "base_uri": "https://localhost:8080/",
          "height": 34
        },
        "colab_type": "code",
        "id": "8DJAAXt3ZvW5",
        "outputId": "cbba8053-574c-4fed-9d1e-9790d4c2efc5"
      },
      "outputs": [
        {
          "data": {
            "text/plain": [
              "'весь_DET'"
            ]
          },
          "execution_count": 38,
          "metadata": {},
          "output_type": "execute_result"
        }
      ],
      "source": [
        "list(russian_model.index_to_key)[0]"
      ]
    },
    {
      "cell_type": "code",
      "execution_count": 39,
      "metadata": {
        "colab": {
          "base_uri": "https://localhost:8080/",
          "height": 34
        },
        "colab_type": "code",
        "id": "Cf73ZLziGOIP",
        "outputId": "074545cf-b7c3-45eb-ed08-0deee358fed5"
      },
      "outputs": [
        {
          "data": {
            "text/plain": [
              "184973"
            ]
          },
          "execution_count": 39,
          "metadata": {},
          "output_type": "execute_result"
        }
      ],
      "source": [
        "import re\n",
        "\n",
        "russian_dict = []\n",
        "for x in list(russian_model.index_to_key):\n",
        "    russian_dict.append(re.sub(r'_\\w*', '', x))\n",
        "len(russian_dict)"
      ]
    },
    {
      "cell_type": "code",
      "execution_count": 40,
      "metadata": {
        "colab": {},
        "colab_type": "code",
        "id": "2ZTs5i7ZI01p"
      },
      "outputs": [],
      "source": [
        "embedding_matrix = np.zeros((max_words, 300))\n",
        "for word, i in word_index.items():\n",
        "    if i < max_words:\n",
        "        try:\n",
        "            word_index = russian_dict.index(word)\n",
        "            word_in_model = list(russian_model.index_to_key)[word_index]\n",
        "            embedding_vector = russian_model.get_vector(word_in_model)\n",
        "        except ValueError:\n",
        "            embedding_vector = None \n",
        "        if embedding_vector is not None:\n",
        "            embedding_matrix[i] = embedding_vector"
      ]
    },
    {
      "cell_type": "code",
      "execution_count": 41,
      "metadata": {
        "colab": {
          "base_uri": "https://localhost:8080/",
          "height": 289
        },
        "colab_type": "code",
        "id": "tsU4udzj_gPa",
        "outputId": "dba82e15-ab9e-4a74-bb9d-6b0f151eaf01"
      },
      "outputs": [
        {
          "name": "stdout",
          "output_type": "stream",
          "text": [
            "Model: \"sequential_1\"\n",
            "_________________________________________________________________\n",
            " Layer (type)                Output Shape              Param #   \n",
            "=================================================================\n",
            " embedding_1 (Embedding)     (None, 500, 300)          3000000   \n",
            "                                                                 \n",
            " flatten_1 (Flatten)         (None, 150000)            0         \n",
            "                                                                 \n",
            " dense_2 (Dense)             (None, 32)                4800032   \n",
            "                                                                 \n",
            " dense_3 (Dense)             (None, 3)                 99        \n",
            "                                                                 \n",
            "=================================================================\n",
            "Total params: 7,800,131\n",
            "Trainable params: 7,800,131\n",
            "Non-trainable params: 0\n",
            "_________________________________________________________________\n"
          ]
        }
      ],
      "source": [
        "vector_model = Sequential()\n",
        "vector_model.add(Embedding(max_words, 300, input_length=max_len))\n",
        "vector_model.add(Flatten())\n",
        "vector_model.add(Dense(32, activation='relu'))\n",
        "vector_model.add(Dense(3, activation='softmax'))\n",
        "vector_model.summary()"
      ]
    },
    {
      "cell_type": "code",
      "execution_count": 42,
      "metadata": {
        "colab": {},
        "colab_type": "code",
        "id": "ftFaNZZxVjD8"
      },
      "outputs": [],
      "source": [
        "vector_model.layers[0].set_weights([embedding_matrix])\n",
        "vector_model.layers[0].trainable = False"
      ]
    },
    {
      "cell_type": "code",
      "execution_count": 43,
      "metadata": {
        "colab": {
          "base_uri": "https://localhost:8080/",
          "height": 374
        },
        "colab_type": "code",
        "id": "Nof1ziXJ_1i-",
        "outputId": "96b6c394-884d-40e9-8b4b-5e3d3ca6745b"
      },
      "outputs": [
        {
          "name": "stdout",
          "output_type": "stream",
          "text": [
            "Epoch 1/10\n",
            "60/60 [==============================] - 3s 40ms/step - loss: 1.0897 - acc: 0.3802 - val_loss: 1.0695 - val_acc: 0.4333\n",
            "Epoch 2/10\n",
            "60/60 [==============================] - 2s 38ms/step - loss: 0.5283 - acc: 0.8693 - val_loss: 1.1587 - val_acc: 0.4125\n",
            "Epoch 3/10\n",
            "60/60 [==============================] - 2s 38ms/step - loss: 0.1414 - acc: 0.9839 - val_loss: 1.3726 - val_acc: 0.3917\n",
            "Epoch 4/10\n",
            "60/60 [==============================] - 2s 37ms/step - loss: 0.0389 - acc: 0.9979 - val_loss: 1.3696 - val_acc: 0.3896\n",
            "Epoch 5/10\n",
            "60/60 [==============================] - 2s 37ms/step - loss: 0.0141 - acc: 0.9995 - val_loss: 1.4801 - val_acc: 0.4083\n",
            "Epoch 6/10\n",
            "60/60 [==============================] - 2s 37ms/step - loss: 0.0065 - acc: 0.9995 - val_loss: 1.5803 - val_acc: 0.3938\n",
            "Epoch 7/10\n",
            "60/60 [==============================] - 2s 37ms/step - loss: 0.0035 - acc: 0.9995 - val_loss: 1.6797 - val_acc: 0.3958\n",
            "Epoch 8/10\n",
            "60/60 [==============================] - 2s 38ms/step - loss: 0.0021 - acc: 1.0000 - val_loss: 1.7527 - val_acc: 0.3958\n",
            "Epoch 9/10\n",
            "60/60 [==============================] - 2s 38ms/step - loss: 0.0015 - acc: 1.0000 - val_loss: 1.8309 - val_acc: 0.3958\n",
            "Epoch 10/10\n",
            "60/60 [==============================] - 2s 36ms/step - loss: 0.0011 - acc: 1.0000 - val_loss: 1.8690 - val_acc: 0.3958\n"
          ]
        }
      ],
      "source": [
        "vector_model.compile(optimizer='rmsprop',\n",
        "                     loss='categorical_crossentropy',\n",
        "                     metrics=['acc'])\n",
        "vector_model_history = vector_model.fit(X_train, y_train,\n",
        "                                        epochs=10,\n",
        "                                        batch_size=32,\n",
        "                                        validation_split=0.2)"
      ]
    },
    {
      "cell_type": "code",
      "execution_count": 44,
      "metadata": {},
      "outputs": [],
      "source": [
        "def plotting(history):\n",
        "    acc = history.history['acc']\n",
        "    val_acc = history.history['val_acc']\n",
        "    loss = history.history['loss']\n",
        "    val_loss = history.history['val_loss']\n",
        "\n",
        "    epochs = range(1, len(acc) + 1)\n",
        "    plt.plot(epochs, acc, 'b', color='blue', label='Training acc')\n",
        "    plt.plot(epochs, val_acc, 'b', color='orange', label='Validation acc')\n",
        "    plt.title('Training and validation accuracy')\n",
        "    plt.legend()\n",
        "\n",
        "    plt.figure()\n",
        "    plt.plot(epochs, loss, 'b', color='blue', label='Training loss')\n",
        "    plt.plot(epochs, val_loss, 'b', color='orange', label='Validation loss')\n",
        "    plt.title('Training and validation loss')\n",
        "    plt.legend()\n",
        "    plt.show()"
      ]
    },
    {
      "cell_type": "code",
      "execution_count": 45,
      "metadata": {
        "colab": {
          "base_uri": "https://localhost:8080/",
          "height": 551
        },
        "colab_type": "code",
        "id": "rWbA4LMQZh6Y",
        "outputId": "30f9113d-92b2-4261-aa9f-2541d4a555bf"
      },
      "outputs": [
        {
          "name": "stderr",
          "output_type": "stream",
          "text": [
            "C:\\Users\\kozyr\\AppData\\Local\\Temp\\ipykernel_2400\\2124928173.py:8: UserWarning: color is redundantly defined by the 'color' keyword argument and the fmt string \"b\" (-> color=(0.0, 0.0, 1.0, 1)). The keyword argument will take precedence.\n",
            "  plt.plot(epochs, acc, 'b', color='blue', label='Training acc')\n",
            "C:\\Users\\kozyr\\AppData\\Local\\Temp\\ipykernel_2400\\2124928173.py:9: UserWarning: color is redundantly defined by the 'color' keyword argument and the fmt string \"b\" (-> color=(0.0, 0.0, 1.0, 1)). The keyword argument will take precedence.\n",
            "  plt.plot(epochs, val_acc, 'b', color='orange', label='Validation acc')\n",
            "C:\\Users\\kozyr\\AppData\\Local\\Temp\\ipykernel_2400\\2124928173.py:14: UserWarning: color is redundantly defined by the 'color' keyword argument and the fmt string \"b\" (-> color=(0.0, 0.0, 1.0, 1)). The keyword argument will take precedence.\n",
            "  plt.plot(epochs, loss, 'b', color='blue', label='Training loss')\n",
            "C:\\Users\\kozyr\\AppData\\Local\\Temp\\ipykernel_2400\\2124928173.py:15: UserWarning: color is redundantly defined by the 'color' keyword argument and the fmt string \"b\" (-> color=(0.0, 0.0, 1.0, 1)). The keyword argument will take precedence.\n",
            "  plt.plot(epochs, val_loss, 'b', color='orange', label='Validation loss')\n"
          ]
        },
        {
          "data": {
            "image/png": "[encoded data removed]",
            "text/plain": [
              "<Figure size 640x480 with 1 Axes>"
            ]
          },
          "metadata": {},
          "output_type": "display_data"
        },
        {
          "data": {
            "image/png": "[encoded data removed]",
            "text/plain": [
              "<Figure size 640x480 with 1 Axes>"
            ]
          },
          "metadata": {},
          "output_type": "display_data"
        }
      ],
      "source": [
        "plotting(vector_model_history)"
      ]
    },
    {
      "cell_type": "code",
      "execution_count": 46,
      "metadata": {
        "colab": {
          "base_uri": "https://localhost:8080/",
          "height": 51
        },
        "colab_type": "code",
        "id": "iqN0cdL1Y3pE",
        "outputId": "075c7013-d32a-4014-81aa-468c5255986e"
      },
      "outputs": [
        {
          "name": "stdout",
          "output_type": "stream",
          "text": [
            "19/19 [==============================] - 0s 7ms/step - loss: 1.7508 - acc: 0.4567\n"
          ]
        },
        {
          "data": {
            "text/plain": [
              "[1.7508052587509155, 0.4566666781902313]"
            ]
          },
          "execution_count": 46,
          "metadata": {},
          "output_type": "execute_result"
        }
      ],
      "source": [
        "vector_model.evaluate(X_test, y_test)"
      ]
    }
  ],
  "metadata": {
    "colab": {
      "collapsed_sections": [],
      "name": "Neuro_for_reviews.ipynb",
      "provenance": []
    },
    "kernelspec": {
      "display_name": "Python 3",
      "language": "python",
      "name": "python3"
    },
    "language_info": {
      "codemirror_mode": {
        "name": "ipython",
        "version": 3
      },
      "file_extension": ".py",
      "mimetype": "text/x-python",
      "name": "python",
      "nbconvert_exporter": "python",
      "pygments_lexer": "ipython3",
      "version": "3.8.10"
    },
    "vscode": {
      "interpreter": {
        "hash": "808ade87766a86b4ff14ce34fb10e5d0c10f82b234c5173894f6fade04b42f1d"
      }
    }
  },
  "nbformat": 4,
  "nbformat_minor": 0
}
