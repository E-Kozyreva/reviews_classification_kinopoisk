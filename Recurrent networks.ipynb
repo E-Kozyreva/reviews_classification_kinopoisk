{
  "cells": [
    {
      "attachments": {},
      "cell_type": "markdown",
      "metadata": {
        "colab_type": "text",
        "id": "1GGZHahu1q5T"
      },
      "source": [
        "## Импорт датасета и предобработка."
      ]
    },
    {
      "cell_type": "code",
      "execution_count": 1,
      "metadata": {
        "colab": {},
        "colab_type": "code",
        "id": "dN8Dj6c72MpI"
      },
      "outputs": [],
      "source": [
        "import json\n",
        "import numpy as np\n",
        "from tensorflow import keras\n",
        "from keras.preprocessing.text import Tokenizer\n",
        "from tensorflow.keras.preprocessing.sequence import pad_sequences\n",
        "from keras.models import Sequential\n",
        "from keras.layers import Embedding, Flatten, Dense\n",
        "from matplotlib import pyplot as plt"
      ]
    },
    {
      "cell_type": "code",
      "execution_count": 2,
      "metadata": {
        "colab": {},
        "colab_type": "code",
        "id": "ByqTbD3A1HJz"
      },
      "outputs": [],
      "source": [
        "with open(\"reviews_data.json\", \"r\") as read_file:\n",
        "    load_data = json.load(read_file)"
      ]
    },
    {
      "cell_type": "code",
      "execution_count": 3,
      "metadata": {
        "colab": {
          "base_uri": "https://localhost:8080/",
          "height": 34
        },
        "colab_type": "code",
        "id": "-TR6v-ox5mvO",
        "outputId": "e2a565e2-fb3a-453f-9191-94e8092c4904"
      },
      "outputs": [
        {
          "data": {
            "text/plain": [
              "3000"
            ]
          },
          "execution_count": 3,
          "metadata": {},
          "output_type": "execute_result"
        }
      ],
      "source": [
        "reviews = []\n",
        "reviews += load_data['good']\n",
        "reviews += load_data['bad']\n",
        "reviews += load_data['neutral']\n",
        "len(reviews)"
      ]
    },
    {
      "cell_type": "code",
      "execution_count": 4,
      "metadata": {
        "colab": {
          "base_uri": "https://localhost:8080/",
          "height": 34
        },
        "colab_type": "code",
        "id": "trXl9-nk6C6Z",
        "outputId": "664fa1e9-b150-426b-86d0-106ce6e6862a"
      },
      "outputs": [
        {
          "data": {
            "text/plain": [
              "3000"
            ]
          },
          "execution_count": 4,
          "metadata": {},
          "output_type": "execute_result"
        }
      ],
      "source": [
        "labels = [1 for _ in range(1000)] + [-1 for _ in range(1000)] + [0 for _ in range(1000)]\n",
        "len(labels)"
      ]
    },
    {
      "cell_type": "code",
      "execution_count": 5,
      "metadata": {
        "colab": {},
        "colab_type": "code",
        "id": "WL758Y4YEh26"
      },
      "outputs": [],
      "source": [
        "max_len = 500\n",
        "training_samples = 2400\n",
        "max_words = 10000"
      ]
    },
    {
      "cell_type": "code",
      "execution_count": 6,
      "metadata": {
        "colab": {},
        "colab_type": "code",
        "id": "1oVAJi_E9sxf"
      },
      "outputs": [],
      "source": [
        "tokenizer = Tokenizer(num_words=max_words)\n",
        "tokenizer.fit_on_texts(reviews)"
      ]
    },
    {
      "cell_type": "code",
      "execution_count": 7,
      "metadata": {},
      "outputs": [
        {
          "data": {
            "text/plain": [
              "3000"
            ]
          },
          "execution_count": 7,
          "metadata": {},
          "output_type": "execute_result"
        }
      ],
      "source": [
        "sequences = tokenizer.texts_to_sequences(reviews)\n",
        "len(sequences)"
      ]
    },
    {
      "cell_type": "code",
      "execution_count": 8,
      "metadata": {
        "colab": {},
        "colab_type": "code",
        "id": "wUmwLvhidwq8"
      },
      "outputs": [],
      "source": [
        "word_index = tokenizer.word_index"
      ]
    },
    {
      "cell_type": "code",
      "execution_count": 9,
      "metadata": {
        "colab": {
          "base_uri": "https://localhost:8080/",
          "height": 34
        },
        "colab_type": "code",
        "id": "Lj0WGbPmF6OY",
        "outputId": "60c110cd-a0f6-4233-e761-9a1aa8fc2d14"
      },
      "outputs": [
        {
          "data": {
            "text/plain": [
              "3000"
            ]
          },
          "execution_count": 9,
          "metadata": {},
          "output_type": "execute_result"
        }
      ],
      "source": [
        "data = pad_sequences(sequences, maxlen=max_len)\n",
        "len(data)"
      ]
    },
    {
      "cell_type": "code",
      "execution_count": 10,
      "metadata": {
        "colab": {},
        "colab_type": "code",
        "id": "IzgQgCNgGHIP"
      },
      "outputs": [],
      "source": [
        "labels = np.asarray(labels)"
      ]
    },
    {
      "cell_type": "code",
      "execution_count": 11,
      "metadata": {
        "colab": {
          "base_uri": "https://localhost:8080/",
          "height": 34
        },
        "colab_type": "code",
        "id": "ICLLGyOnOfpC",
        "outputId": "942eb8d7-279a-43d6-ee23-28d23f64d926"
      },
      "outputs": [
        {
          "data": {
            "text/plain": [
              "(3000, 3)"
            ]
          },
          "execution_count": 11,
          "metadata": {},
          "output_type": "execute_result"
        }
      ],
      "source": [
        "def to_one_hot(labels, dimension=3):\n",
        "    results = np.zeros((len(labels), dimension))\n",
        "    for i, label in enumerate(labels):\n",
        "        results[i, label] = 1\n",
        "    return results\n",
        "\n",
        "labels = to_one_hot(labels)\n",
        "labels.shape"
      ]
    },
    {
      "cell_type": "code",
      "execution_count": 12,
      "metadata": {
        "colab": {},
        "colab_type": "code",
        "id": "9kQPFTfXGxxk"
      },
      "outputs": [],
      "source": [
        "indices = np.arange(3000)\n",
        "np.random.shuffle(indices)\n",
        "data = data[indices]\n",
        "labels = labels[indices]"
      ]
    },
    {
      "cell_type": "code",
      "execution_count": 13,
      "metadata": {
        "colab": {},
        "colab_type": "code",
        "id": "-XD33CFcHhBs"
      },
      "outputs": [],
      "source": [
        "X_train = data[:training_samples]\n",
        "y_train = labels[:training_samples]\n",
        "X_test = data[training_samples:]\n",
        "y_test = labels[training_samples:]"
      ]
    },
    {
      "attachments": {},
      "cell_type": "markdown",
      "metadata": {
        "colab_type": "text",
        "id": "Zhe5mZSRekE0"
      },
      "source": [
        "## Рекуррентные сети."
      ]
    },
    {
      "cell_type": "code",
      "execution_count": 14,
      "metadata": {
        "colab": {
          "base_uri": "https://localhost:8080/",
          "height": 255
        },
        "colab_type": "code",
        "id": "gqL28mNlZ_C1",
        "outputId": "abc6ff96-5fdc-4956-ba23-55b40b8039d7"
      },
      "outputs": [
        {
          "name": "stdout",
          "output_type": "stream",
          "text": [
            "Model: \"sequential\"\n",
            "_________________________________________________________________\n",
            " Layer (type)                Output Shape              Param #   \n",
            "=================================================================\n",
            " embedding (Embedding)       (None, None, 32)          320000    \n",
            "                                                                 \n",
            " lstm (LSTM)                 (None, 32)                8320      \n",
            "                                                                 \n",
            " dense (Dense)               (None, 3)                 99        \n",
            "                                                                 \n",
            "=================================================================\n",
            "Total params: 328,419\n",
            "Trainable params: 328,419\n",
            "Non-trainable params: 0\n",
            "_________________________________________________________________\n"
          ]
        }
      ],
      "source": [
        "from keras.layers import LSTM\n",
        "\n",
        "LSTM_model = Sequential()\n",
        "LSTM_model.add(Embedding(max_words, 32))\n",
        "LSTM_model.add(LSTM(32))\n",
        "LSTM_model.add(Dense(3, activation='softmax'))\n",
        "LSTM_model.summary()"
      ]
    },
    {
      "cell_type": "code",
      "execution_count": 15,
      "metadata": {
        "colab": {
          "base_uri": "https://localhost:8080/",
          "height": 476
        },
        "colab_type": "code",
        "id": "EYmlyGo5bp6Q",
        "outputId": "35917efa-0cb5-4a24-ae1f-63190213b6cb"
      },
      "outputs": [
        {
          "name": "stdout",
          "output_type": "stream",
          "text": [
            "Epoch 1/13\n",
            "15/15 [==============================] - 4s 162ms/step - loss: 1.0932 - acc: 0.4344 - val_loss: 1.0859 - val_acc: 0.4042\n",
            "Epoch 2/13\n",
            "15/15 [==============================] - 2s 127ms/step - loss: 1.0726 - acc: 0.4620 - val_loss: 1.0471 - val_acc: 0.5646\n",
            "Epoch 3/13\n",
            "15/15 [==============================] - 2s 127ms/step - loss: 0.9985 - acc: 0.5370 - val_loss: 0.9610 - val_acc: 0.5063\n",
            "Epoch 4/13\n",
            "15/15 [==============================] - 2s 139ms/step - loss: 0.8540 - acc: 0.5906 - val_loss: 0.8468 - val_acc: 0.6083\n",
            "Epoch 5/13\n",
            "15/15 [==============================] - 2s 130ms/step - loss: 0.7836 - acc: 0.6021 - val_loss: 0.9262 - val_acc: 0.4917\n",
            "Epoch 6/13\n",
            "15/15 [==============================] - 2s 126ms/step - loss: 0.7412 - acc: 0.6443 - val_loss: 0.7300 - val_acc: 0.6292\n",
            "Epoch 7/13\n",
            "15/15 [==============================] - 2s 130ms/step - loss: 0.6547 - acc: 0.6521 - val_loss: 0.7172 - val_acc: 0.6854\n",
            "Epoch 8/13\n",
            "15/15 [==============================] - 2s 126ms/step - loss: 0.6064 - acc: 0.6823 - val_loss: 0.7336 - val_acc: 0.6313\n",
            "Epoch 9/13\n",
            "15/15 [==============================] - 2s 129ms/step - loss: 0.5855 - acc: 0.6839 - val_loss: 0.6986 - val_acc: 0.6625\n",
            "Epoch 10/13\n",
            "15/15 [==============================] - 2s 131ms/step - loss: 0.5386 - acc: 0.7167 - val_loss: 0.6650 - val_acc: 0.7188\n",
            "Epoch 11/13\n",
            "15/15 [==============================] - 2s 130ms/step - loss: 0.5110 - acc: 0.7760 - val_loss: 0.7463 - val_acc: 0.6646\n",
            "Epoch 12/13\n",
            "15/15 [==============================] - 2s 127ms/step - loss: 0.5013 - acc: 0.7661 - val_loss: 0.7113 - val_acc: 0.6979\n",
            "Epoch 13/13\n",
            "15/15 [==============================] - 2s 126ms/step - loss: 0.4606 - acc: 0.8109 - val_loss: 0.7102 - val_acc: 0.7146\n"
          ]
        }
      ],
      "source": [
        "LSTM_model.compile(optimizer='rmsprop',\n",
        "                   loss='categorical_crossentropy',\n",
        "                   metrics=['acc'])\n",
        "LSTM_model_history = LSTM_model.fit(X_train, y_train,\n",
        "                                    epochs=13,\n",
        "                                    batch_size=128,\n",
        "                                    validation_split=0.2)"
      ]
    },
    {
      "cell_type": "code",
      "execution_count": 16,
      "metadata": {},
      "outputs": [],
      "source": [
        "def plotting(history):\n",
        "    acc = history.history['acc']\n",
        "    val_acc = history.history['val_acc']\n",
        "    loss = history.history['loss']\n",
        "    val_loss = history.history['val_loss']\n",
        "\n",
        "    epochs = range(1, len(acc) + 1)\n",
        "    plt.plot(epochs, acc, 'b', color='blue', label='Training acc')\n",
        "    plt.plot(epochs, val_acc, 'b', color='orange', label='Validation acc')\n",
        "    plt.title('Training and validation accuracy')\n",
        "    plt.legend()\n",
        "\n",
        "    plt.figure()\n",
        "    plt.plot(epochs, loss, 'b', color='blue', label='Training loss')\n",
        "    plt.plot(epochs, val_loss, 'b', color='orange', label='Validation loss')\n",
        "    plt.title('Training and validation loss')\n",
        "    plt.legend()\n",
        "    plt.show()"
      ]
    },
    {
      "cell_type": "code",
      "execution_count": 17,
      "metadata": {
        "colab": {
          "base_uri": "https://localhost:8080/",
          "height": 551
        },
        "colab_type": "code",
        "id": "GNQGdBCSexWr",
        "outputId": "63ecc7b7-64e5-482a-b544-8f0d947f0403"
      },
      "outputs": [
        {
          "name": "stderr",
          "output_type": "stream",
          "text": [
            "C:\\Users\\kozyr\\AppData\\Local\\Temp\\ipykernel_24304\\2124928173.py:8: UserWarning: color is redundantly defined by the 'color' keyword argument and the fmt string \"b\" (-> color=(0.0, 0.0, 1.0, 1)). The keyword argument will take precedence.\n",
            "  plt.plot(epochs, acc, 'b', color='blue', label='Training acc')\n",
            "C:\\Users\\kozyr\\AppData\\Local\\Temp\\ipykernel_24304\\2124928173.py:9: UserWarning: color is redundantly defined by the 'color' keyword argument and the fmt string \"b\" (-> color=(0.0, 0.0, 1.0, 1)). The keyword argument will take precedence.\n",
            "  plt.plot(epochs, val_acc, 'b', color='orange', label='Validation acc')\n",
            "C:\\Users\\kozyr\\AppData\\Local\\Temp\\ipykernel_24304\\2124928173.py:14: UserWarning: color is redundantly defined by the 'color' keyword argument and the fmt string \"b\" (-> color=(0.0, 0.0, 1.0, 1)). The keyword argument will take precedence.\n",
            "  plt.plot(epochs, loss, 'b', color='blue', label='Training loss')\n",
            "C:\\Users\\kozyr\\AppData\\Local\\Temp\\ipykernel_24304\\2124928173.py:15: UserWarning: color is redundantly defined by the 'color' keyword argument and the fmt string \"b\" (-> color=(0.0, 0.0, 1.0, 1)). The keyword argument will take precedence.\n",
            "  plt.plot(epochs, val_loss, 'b', color='orange', label='Validation loss')\n"
          ]
        },
        {
          "data": {
            "image/png": "[encoded data removed]",
            "text/plain": [
              "<Figure size 640x480 with 1 Axes>"
            ]
          },
          "metadata": {},
          "output_type": "display_data"
        },
        {
          "data": {
            "image/png": "[encoded data removed]",
            "text/plain": [
              "<Figure size 640x480 with 1 Axes>"
            ]
          },
          "metadata": {},
          "output_type": "display_data"
        }
      ],
      "source": [
        "plotting(LSTM_model_history)"
      ]
    },
    {
      "cell_type": "code",
      "execution_count": 18,
      "metadata": {
        "colab": {
          "base_uri": "https://localhost:8080/",
          "height": 51
        },
        "colab_type": "code",
        "id": "6frJOU3qecpe",
        "outputId": "cfcbb452-810c-47a1-d2ee-87144e5b8a8f"
      },
      "outputs": [
        {
          "name": "stdout",
          "output_type": "stream",
          "text": [
            "19/19 [==============================] - 0s 23ms/step - loss: 0.7288 - acc: 0.6533\n"
          ]
        },
        {
          "data": {
            "text/plain": [
              "[0.7287532687187195, 0.653333306312561]"
            ]
          },
          "execution_count": 18,
          "metadata": {},
          "output_type": "execute_result"
        }
      ],
      "source": [
        "LSTM_model.evaluate(X_test, y_test)"
      ]
    }
  ],
  "metadata": {
    "colab": {
      "collapsed_sections": [],
      "name": "Neuro_for_reviews.ipynb",
      "provenance": []
    },
    "kernelspec": {
      "display_name": "Python 3",
      "language": "python",
      "name": "python3"
    },
    "language_info": {
      "codemirror_mode": {
        "name": "ipython",
        "version": 3
      },
      "file_extension": ".py",
      "mimetype": "text/x-python",
      "name": "python",
      "nbconvert_exporter": "python",
      "pygments_lexer": "ipython3",
      "version": "3.8.10"
    },
    "vscode": {
      "interpreter": {
        "hash": "808ade87766a86b4ff14ce34fb10e5d0c10f82b234c5173894f6fade04b42f1d"
      }
    }
  },
  "nbformat": 4,
  "nbformat_minor": 0
}
